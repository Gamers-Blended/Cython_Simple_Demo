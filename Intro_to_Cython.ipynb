{
 "cells": [
  {
   "cell_type": "markdown",
   "metadata": {},
   "source": [
    "# What is Cython?\n",
    "What if there is a big for-loop that needs to be used and can’t be placed into a matrix because the data has to be processed in sequence?\n",
    "\n",
    "Cython is an intermediate step between Python and C/C++.\n",
    "<br>\n",
    "It allows writing of pure Python code with minor modifications, which is then translated directly into C code.\n",
    "The only adjustment to Python code is adding type information to every variable.\n",
    "\n",
    "Normal declaration a variable in Python:"
   ]
  },
  {
   "cell_type": "code",
   "execution_count": null,
   "metadata": {},
   "outputs": [],
   "source": [
    "x = 0.5"
   ]
  },
  {
   "cell_type": "markdown",
   "metadata": {},
   "source": [
    "Cython declaration requires a type to variable:"
   ]
  },
  {
   "cell_type": "code",
   "execution_count": null,
   "metadata": {},
   "outputs": [],
   "source": [
    "cdef float x = 0.5"
   ]
  },
  {
   "cell_type": "markdown",
   "metadata": {},
   "source": [
    "This tells Cython variable is floating point (like in C).\n",
    "<br>\n",
    "On pure Python, the variable’s type is determined on the fly. The explicit declaration of the type in Cython makes the conversion to C possible since explicit type declarations are required."
   ]
  },
  {
   "cell_type": "code",
   "execution_count": null,
   "metadata": {},
   "outputs": [],
   "source": [
    "# Install Cython\n",
    "# pip install cython"
   ]
  },
  {
   "cell_type": "markdown",
   "metadata": {},
   "source": [
    "# Types in Cython\n",
    "There are 2 different sets of types, for variables and functions.\n",
    "\n",
    "Variables:\n",
    "- **cdef int** a, b, c\n",
    "- **cdef char** \\*s\n",
    "- **cdef float** x = 0.5 (single precision)\n",
    "- **cdef double** x = 63.4 (double precision)\n",
    "- **cdef list** names\n",
    "- **cdef dict** goals_for_each_play\n",
    "- **cdef object** card_deck\n",
    "\n",
    "All these types come from C/C++.\n",
    "\n",
    "Functions:\n",
    "- **def** — regular python function, calls from Python only\n",
    "- **cdef** — Cython-only functions which can’t be accessed from python-only code, must be called within Cython\n",
    "- **cpdef** — C and Python, can be accessed from both C and Python\n",
    "\n",
    "# How to Speedup Code with Cython\n",
    "Set up Python code benchmark: a for-loop used to compute the factorial of a number. <br>\n",
    "Raw Python code - `run_python.py`:"
   ]
  },
  {
   "cell_type": "code",
   "execution_count": null,
   "metadata": {},
   "outputs": [],
   "source": [
    "def test(x):\n",
    "    y = 1\n",
    "    for i in range(1, x+1):\n",
    "        y *= i\n",
    "    return y"
   ]
  },
  {
   "cell_type": "markdown",
   "metadata": {},
   "source": [
    "Cython equivalent of the same function.\n",
    "<br>\n",
    "First, ensure Cython code file has a `.pyx` extension. The only change to the code is the declaration of the type of each and every variable and function. <br>\n",
    "`run_cython.pyx`:"
   ]
  },
  {
   "cell_type": "code",
   "execution_count": null,
   "metadata": {},
   "outputs": [],
   "source": [
    "cpdef int test(int x):\n",
    "    cdef int y = 1\n",
    "    cdef int i\n",
    "    for i in range(1, x+1):\n",
    "        y *= i\n",
    "    return y"
   ]
  },
  {
   "cell_type": "markdown",
   "metadata": {},
   "source": [
    "Function has a `cpdef` - it can be called from Python. Looping variable `i` has a type.\n",
    "\n",
    "Next, create a `setup.py` file which will compile the Cython code into C code:.\n",
    "<br>\n",
    "`setup.py`:"
   ]
  },
  {
   "cell_type": "code",
   "execution_count": null,
   "metadata": {},
   "outputs": [],
   "source": [
    "from distutils.core import setup\n",
    "from Cython.Build import cythonize\n",
    "\n",
    "setup(ext_modules = cythonize('run_cython.pyx'))"
   ]
  },
  {
   "cell_type": "markdown",
   "metadata": {},
   "source": [
    "Perform the compilation via command prompt:"
   ]
  },
  {
   "cell_type": "code",
   "execution_count": null,
   "metadata": {},
   "outputs": [],
   "source": [
    "python setup.py build_ext --inplace"
   ]
  },
  {
   "cell_type": "markdown",
   "metadata": {},
   "source": [
    "C code has been compiled and is ready to use.\n",
    "\n",
    "The folder containing the Cython code has all the files needed to run C code, including the `run_cython.c` file. Look at it to see the C code that Cython generated.\n",
    "\n",
    "The code below implements a speed test to compare the raw Python code to the Cython one. <br>\n",
    "`test_code.py`:"
   ]
  },
  {
   "cell_type": "code",
   "execution_count": null,
   "metadata": {},
   "outputs": [],
   "source": [
    "import run_python\n",
    "import run_cython\n",
    "import time\n",
    "\n",
    "number = 10\n",
    "\n",
    "# Python\n",
    "start = time.time()\n",
    "run_python.test(number)\n",
    "end =  time.time()\n",
    "\n",
    "py_time = end - start\n",
    "print(\"Python time = {}\".format(py_time))\n",
    "\n",
    "# Cython\n",
    "start = time.time()\n",
    "run_cython.test(number)\n",
    "end =  time.time()\n",
    "\n",
    "cy_time = end - start\n",
    "print(\"Cython time = {}\".format(cy_time))\n",
    "\n",
    "# Calculate ratio\n",
    "print(\"Speedup = {}\".format(py_time / cy_time))"
   ]
  },
  {
   "cell_type": "markdown",
   "metadata": {},
   "source": [
    "- Import files in the same way as regular Python\n",
    "- Run functions in the same way as regular Python\n",
    "\n",
    "More loops, more data crunching, the more Cython can help.\n",
    "\n",
    "Table below shows how much speed Cython gave for different factorial values:\n",
    "\n",
    "| Operation | Array Size | Speedup |\n",
    "| --- | ----------- | --- |\n",
    "| Create | 100,00,00 | |\n",
    "| Multiple by 5 | 100,00,00 | |\n",
    "| Create | 1000,00,00 | |\n",
    "| Multiple by 5 | 1000,00,00 | |\n",
    "| Create | 1000,000,000 | |\n",
    "| Multiple by 5 | 1000,000,000 | |\n",
    "\n",
    "\n",
    "# Reference\n",
    "https://towardsdatascience.com/use-cython-to-get-more-than-30x-speedup-on-your-python-code-f6cb337919b6"
   ]
  },
  {
   "cell_type": "code",
   "execution_count": null,
   "metadata": {},
   "outputs": [],
   "source": []
  }
 ],
 "metadata": {
  "kernelspec": {
   "display_name": "Python 3",
   "language": "python",
   "name": "python3"
  },
  "language_info": {
   "codemirror_mode": {
    "name": "ipython",
    "version": 3
   },
   "file_extension": ".py",
   "mimetype": "text/x-python",
   "name": "python",
   "nbconvert_exporter": "python",
   "pygments_lexer": "ipython3",
   "version": "3.8.5"
  }
 },
 "nbformat": 4,
 "nbformat_minor": 4
}
